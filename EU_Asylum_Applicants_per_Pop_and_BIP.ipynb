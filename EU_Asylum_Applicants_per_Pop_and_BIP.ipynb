{
 "cells": [
  {
   "cell_type": "code",
   "execution_count": 2,
   "metadata": {},
   "outputs": [],
   "source": [
    "from pyjstat import pyjstat\n",
    "import altair as alt, pandas as pd\n",
    "#_ = alt.renderers.enable('notebook')"
   ]
  },
  {
   "cell_type": "markdown",
   "metadata": {},
   "source": [
    "## Load asylum applicants data, rename value column and drop unused columns"
   ]
  },
  {
   "cell_type": "code",
   "execution_count": 3,
   "metadata": {},
   "outputs": [
    {
     "name": "stderr",
     "output_type": "stream",
     "text": [
      "C:\\tools\\miniconda3\\envs\\data\\lib\\site-packages\\pyjstat\\pyjstat.py:250: FutureWarning: by argument to sort_index is deprecated, please use .sort_values(by=...)\n",
      "  dim_label = pd.merge(dim_label, dim_index, on='id').sort_index(by='index')\n"
     ]
    }
   ],
   "source": [
    "ds_asyl = pyjstat.Dataset.read('http://ec.europa.eu/eurostat/wdds/rest/data/v2.1/json/en/tps00191?filterNonGeo=1&precision=1')\n",
    "df_asyl = ds_asyl.write('dataframe').set_index(['time', 'geo', 'asyl_app']).rename(columns={'value': 'asyl_count'}).drop(columns=['unit', 'sex', 'citizen', 'age'])"
   ]
  },
  {
   "cell_type": "markdown",
   "metadata": {},
   "source": [
    "## Load population data, rename value column and drop unused columns"
   ]
  },
  {
   "cell_type": "code",
   "execution_count": 4,
   "metadata": {},
   "outputs": [],
   "source": [
    "ds_pop = pyjstat.Dataset.read('http://ec.europa.eu/eurostat/wdds/rest/data/v2.1/json/en/tps00001?filterNonGeo=1&precision=1')\n",
    "df_pop = ds_pop.write('dataframe').set_index(['time', 'geo']).rename(columns={'value': 'population'}).drop(columns=['indic_de'])"
   ]
  },
  {
   "cell_type": "markdown",
   "metadata": {},
   "source": [
    "## Load real BIP data, rename value column and drop unused columns"
   ]
  },
  {
   "cell_type": "code",
   "execution_count": 5,
   "metadata": {},
   "outputs": [],
   "source": [
    "ds_bip = pyjstat.Dataset.read('http://ec.europa.eu/eurostat/wdds/rest/data/v2.1/json/en/sdg_08_10?filterNonGeo=1&precision=1')\n",
    "df_bip = ds_bip.write('dataframe')\n",
    "df_bip = df_bip[df_bip.unit == 'Chain linked volumes (2010), euro per capita'].set_index(['time', 'geo']).rename(columns={'value': 'BIP'}).drop(columns=['unit', 'na_item'])"
   ]
  },
  {
   "cell_type": "markdown",
   "metadata": {},
   "source": [
    "## Join asylum, population and BIP data\n",
    "Also, simplify name of Germany and convert year to number"
   ]
  },
  {
   "cell_type": "code",
   "execution_count": 6,
   "metadata": {},
   "outputs": [],
   "source": [
    "df = df_asyl.join(df_pop, on=['time', 'geo'], how='left').join(df_bip, on=['time', 'geo'], how='left')\n",
    "# the time index is still a string, convert to number and make sure index is sorted\n",
    "df.index = df.index.set_levels(df.index.levels[0].astype('int'), level=0)\n",
    "df.index = df.index.set_levels(df.index.levels[1].str.replace('Germany (until 1990 former territory of the FRG)', 'Germany', regex=False), level=1)\n",
    "df.sort_index(inplace=True)"
   ]
  },
  {
   "cell_type": "markdown",
   "metadata": {},
   "source": [
    "## Compute number of first time asylum applicants per 1000 population and 1 Mio EUR BIP"
   ]
  },
  {
   "cell_type": "code",
   "execution_count": 7,
   "metadata": {},
   "outputs": [],
   "source": [
    "df['asyl_count_per_capita_and_bip'] = df.asyl_count / df.population * 1e3 / df.BIP * 1e6\n",
    "df['asyl_count_per_capita_and_bip_fraction'] = (df.asyl_count_per_capita_and_bip / df.groupby(['time', 'asyl_app']).asyl_count_per_capita_and_bip.sum()).reorder_levels(['time', 'geo', 'asyl_app'])"
   ]
  },
  {
   "cell_type": "markdown",
   "metadata": {},
   "source": [
    "## Plot data for selected countries after 2014"
   ]
  },
  {
   "cell_type": "code",
   "execution_count": 8,
   "metadata": {},
   "outputs": [
    {
     "data": {
      "application/vnd.vegalite.v3+json": {
       "$schema": "https://vega.github.io/schema/vega-lite/v3.4.0.json",
       "config": {
        "mark": {
         "tooltip": null
        },
        "view": {
         "height": 300,
         "width": 400
        }
       },
       "data": {
        "name": "data-96fe8a1dd1a3c547788c6b5014abd4ca"
       },
       "datasets": {
        "data-96fe8a1dd1a3c547788c6b5014abd4ca": [
         {
          "BIP": 36100,
          "asyl_app": "First time applicant",
          "asyl_count": 25675,
          "asyl_count_per_capita_and_bip": 83.59623015495418,
          "asyl_count_per_capita_and_bip_fraction": 0.04833135753075101,
          "geo": "Austria",
          "population": 8507786,
          "time": 2014
         },
         {
          "BIP": 20500,
          "asyl_app": "First time applicant",
          "asyl_count": 1480,
          "asyl_count_per_capita_and_bip": 84.14349877764512,
          "asyl_count_per_capita_and_bip_fraction": 0.04864776217507061,
          "geo": "Cyprus",
          "population": 858000,
          "time": 2014
         },
         {
          "BIP": 31300,
          "asyl_app": "First time applicant",
          "asyl_count": 58845,
          "asyl_count_per_capita_and_bip": 28.41387596589349,
          "asyl_count_per_capita_and_bip_fraction": 0.016427549371502686,
          "geo": "France",
          "population": 66165980,
          "time": 2014
         },
         {
          "BIP": 33900,
          "asyl_app": "First time applicant",
          "asyl_count": 172945,
          "asyl_count_per_capita_and_bip": 63.164326690304186,
          "asyl_count_per_capita_and_bip_fraction": 0.036518604377249304,
          "geo": "Germany",
          "population": 80767463,
          "time": 2014
         },
         {
          "BIP": 25400,
          "asyl_app": "First time applicant",
          "asyl_count": 63655,
          "asyl_count_per_capita_and_bip": 41.23054226913377,
          "asyl_count_per_capita_and_bip_fraction": 0.023837535208256648,
          "geo": "Italy",
          "population": 60782668,
          "time": 2014
         },
         {
          "BIP": 18000,
          "asyl_app": "First time applicant",
          "asyl_count": 1275,
          "asyl_count_per_capita_and_bip": 164.94963796465345,
          "asyl_count_per_capita_and_bip_fraction": 0.09536602203544636,
          "geo": "Malta",
          "population": 429424,
          "time": 2014
         },
         {
          "BIP": 57700,
          "asyl_app": "First time applicant",
          "asyl_count": 21940,
          "asyl_count_per_capita_and_bip": 46.71497200738272,
          "asyl_count_per_capita_and_bip_fraction": 0.027008371190217303,
          "geo": "Switzerland",
          "population": 8139631,
          "time": 2014
         },
         {
          "BIP": 36200,
          "asyl_app": "First time applicant",
          "asyl_count": 85505,
          "asyl_count_per_capita_and_bip": 275.13534474096053,
          "asyl_count_per_capita_and_bip_fraction": 0.0658567996433288,
          "geo": "Austria",
          "population": 8584926,
          "time": 2015
         },
         {
          "BIP": 21000,
          "asyl_app": "First time applicant",
          "asyl_count": 2105,
          "asyl_count_per_capita_and_bip": 118.34374083609036,
          "asyl_count_per_capita_and_bip_fraction": 0.02832693137489196,
          "geo": "Cyprus",
          "population": 847008,
          "time": 2015
         },
         {
          "BIP": 31500,
          "asyl_app": "First time applicant",
          "asyl_count": 70570,
          "asyl_count_per_capita_and_bip": 33.71019745790196,
          "asyl_count_per_capita_and_bip_fraction": 0.008068922304447182,
          "geo": "France",
          "population": 66458153,
          "time": 2015
         },
         {
          "BIP": 34200,
          "asyl_app": "First time applicant",
          "asyl_count": 441800,
          "asyl_count_per_capita_and_bip": 159.09508012503827,
          "asyl_count_per_capita_and_bip_fraction": 0.03808123171488028,
          "geo": "Germany",
          "population": 81197537,
          "time": 2015
         },
         {
          "BIP": 25600,
          "asyl_app": "First time applicant",
          "asyl_count": 82830,
          "asyl_count_per_capita_and_bip": 53.22007244536004,
          "asyl_count_per_capita_and_bip_fraction": 0.012738834595523815,
          "geo": "Italy",
          "population": 60795612,
          "time": 2015
         },
         {
          "BIP": 19400,
          "asyl_app": "First time applicant",
          "asyl_count": 1695,
          "asyl_count_per_capita_and_bip": 198.71030796768312,
          "asyl_count_per_capita_and_bip_fraction": 0.047563590752808284,
          "geo": "Malta",
          "population": 439691,
          "time": 2015
         },
         {
          "BIP": 57800,
          "asyl_app": "First time applicant",
          "asyl_count": 38060,
          "asyl_count_per_capita_and_bip": 79.9349607826439,
          "asyl_count_per_capita_and_bip_fraction": 0.019133349449218226,
          "geo": "Switzerland",
          "population": 8237666,
          "time": 2015
         },
         {
          "BIP": 36500,
          "asyl_app": "First time applicant",
          "asyl_count": 39875,
          "asyl_count_per_capita_and_bip": 125.56397848170029,
          "asyl_count_per_capita_and_bip_fraction": 0.052963571207504306,
          "geo": "Austria",
          "population": 8700471,
          "time": 2016
         },
         {
          "BIP": 22000,
          "asyl_app": "First time applicant",
          "asyl_count": 2840,
          "asyl_count_per_capita_and_bip": 152.1726014517052,
          "asyl_count_per_capita_and_bip_fraction": 0.06418723355435228,
          "geo": "Cyprus",
          "population": 848319,
          "time": 2016
         },
         {
          "BIP": 31800,
          "asyl_app": "First time applicant",
          "asyl_count": 76790,
          "asyl_count_per_capita_and_bip": 36.23706752184093,
          "asyl_count_per_capita_and_bip_fraction": 0.015284992792131658,
          "geo": "France",
          "population": 66638391,
          "time": 2016
         },
         {
          "BIP": 34700,
          "asyl_app": "First time applicant",
          "asyl_count": 722265,
          "asyl_count_per_capita_and_bip": 253.29333813784913,
          "asyl_count_per_capita_and_bip_fraction": 0.10684051200882894,
          "geo": "Germany",
          "population": 82175684,
          "time": 2016
         },
         {
          "BIP": 26000,
          "asyl_app": "First time applicant",
          "asyl_count": 121185,
          "asyl_count_per_capita_and_bip": 76.83044926867208,
          "asyl_count_per_capita_and_bip_fraction": 0.03240750269265248,
          "geo": "Italy",
          "population": 60665551,
          "time": 2016
         },
         {
          "BIP": 20100,
          "asyl_app": "First time applicant",
          "asyl_count": 1735,
          "asyl_count_per_capita_and_bip": 191.64194789294098,
          "asyl_count_per_capita_and_bip_fraction": 0.08083561923017497,
          "geo": "Malta",
          "population": 450415,
          "time": 2016
         },
         {
          "BIP": 58100,
          "asyl_app": "First time applicant",
          "asyl_count": 25820,
          "asyl_count_per_capita_and_bip": 53.36849667141161,
          "asyl_count_per_capita_and_bip_fraction": 0.022511123077433488,
          "geo": "Switzerland",
          "population": 8327126,
          "time": 2016
         },
         {
          "BIP": 37200,
          "asyl_app": "First time applicant",
          "asyl_count": 22455,
          "asyl_count_per_capita_and_bip": 68.80637422986271,
          "asyl_count_per_capita_and_bip_fraction": 0.04349564731886562,
          "geo": "Austria",
          "population": 8772865,
          "time": 2017
         },
         {
          "BIP": 22700,
          "asyl_app": "First time applicant",
          "asyl_count": 4475,
          "asyl_count_per_capita_and_bip": 230.6224878704682,
          "asyl_count_per_capita_and_bip_fraction": 0.1457869929710619,
          "geo": "Cyprus",
          "population": 854802,
          "time": 2017
         },
         {
          "BIP": 32400,
          "asyl_app": "First time applicant",
          "asyl_count": 91965,
          "asyl_count_per_capita_and_bip": 42.488784874902045,
          "asyl_count_per_capita_and_bip_fraction": 0.02685909877698229,
          "geo": "France",
          "population": 66804121,
          "time": 2017
         },
         {
          "BIP": 35400,
          "asyl_app": "First time applicant",
          "asyl_count": 198255,
          "asyl_count_per_capita_and_bip": 67.86611180478364,
          "asyl_count_per_capita_and_bip_fraction": 0.04290126455584146,
          "geo": "Germany",
          "population": 82521653,
          "time": 2017
         },
         {
          "BIP": 26400,
          "asyl_app": "First time applicant",
          "asyl_count": 126550,
          "asyl_count_per_capita_and_bip": 79.11544009126682,
          "asyl_count_per_capita_and_bip_fraction": 0.050012478032784864,
          "geo": "Italy",
          "population": 60589445,
          "time": 2017
         },
         {
          "BIP": 20800,
          "asyl_app": "First time applicant",
          "asyl_count": 1610,
          "asyl_count_per_capita_and_bip": 168.1606574751653,
          "asyl_count_per_capita_and_bip_fraction": 0.10630202117631547,
          "geo": "Malta",
          "population": 460297,
          "time": 2017
         },
         {
          "BIP": 58500,
          "asyl_app": "First time applicant",
          "asyl_count": 16615,
          "asyl_count_per_capita_and_bip": 33.733049155488594,
          "asyl_count_per_capita_and_bip_fraction": 0.021324198891158712,
          "geo": "Switzerland",
          "population": 8419550,
          "time": 2017
         },
         {
          "BIP": 38000,
          "asyl_app": "First time applicant",
          "asyl_count": 11580,
          "asyl_count_per_capita_and_bip": 34.541784113455556,
          "asyl_count_per_capita_and_bip_fraction": 0.021326985053836473,
          "geo": "Austria",
          "population": 8822267,
          "time": 2018
         },
         {
          "BIP": 23300,
          "asyl_app": "First time applicant",
          "asyl_count": 7610,
          "asyl_count_per_capita_and_bip": 377.9169602516972,
          "asyl_count_per_capita_and_bip_fraction": 0.23333564173772942,
          "geo": "Cyprus",
          "population": 864236,
          "time": 2018
         },
         {
          "BIP": 32800,
          "asyl_app": "First time applicant",
          "asyl_count": 111415,
          "asyl_count_per_capita_and_bip": 50.754420632549085,
          "asyl_count_per_capita_and_bip_fraction": 0.0313370834202176,
          "geo": "France",
          "population": 66926166,
          "time": 2018
         },
         {
          "BIP": 35900,
          "asyl_app": "First time applicant",
          "asyl_count": 161885,
          "asyl_count_per_capita_and_bip": 54.46555656238243,
          "asyl_count_per_capita_and_bip_fraction": 0.03362843409997244,
          "geo": "Germany",
          "population": 82792351,
          "time": 2018
         },
         {
          "BIP": 26700,
          "asyl_app": "First time applicant",
          "asyl_count": 53440,
          "asyl_count_per_capita_and_bip": 33.091379882416526,
          "asyl_count_per_capita_and_bip_fraction": 0.020431468213832227,
          "geo": "Italy",
          "population": 60483973,
          "time": 2018
         },
         {
          "BIP": 21600,
          "asyl_app": "First time applicant",
          "asyl_count": 2035,
          "asyl_count_per_capita_and_bip": 198.05079863814234,
          "asyl_count_per_capita_and_bip_fraction": 0.12228165194312215,
          "geo": "Malta",
          "population": 475701,
          "time": 2018
         },
         {
          "BIP": 59600,
          "asyl_app": "First time applicant",
          "asyl_count": 13465,
          "asyl_count_per_capita_and_bip": 26.6288728239603,
          "asyl_count_per_capita_and_bip_fraction": 0.016441350303497672,
          "geo": "Switzerland",
          "population": 8484130,
          "time": 2018
         }
        ]
       },
       "encoding": {
        "color": {
         "field": "geo",
         "title": "Country",
         "type": "nominal"
        },
        "tooltip": [
         {
          "field": "geo",
          "title": "Country",
          "type": "nominal"
         },
         {
          "aggregate": "sum",
          "field": "asyl_count_per_capita_and_bip",
          "format": ".1f",
          "title": "Count",
          "type": "quantitative"
         },
         {
          "aggregate": "sum",
          "field": "asyl_count_per_capita_and_bip_fraction",
          "format": ".1%",
          "title": "Fraction of Total",
          "type": "quantitative"
         }
        ],
        "x": {
         "field": "time",
         "title": "Year",
         "type": "ordinal"
        },
        "y": {
         "aggregate": "sum",
         "field": "asyl_count_per_capita_and_bip",
         "stack": "zero",
         "title": "Count",
         "type": "quantitative"
        }
       },
       "height": 540,
       "mark": "bar",
       "title": "First Time Asylum Applicants per 1000 Population and 1 Mio EUR BIP",
       "width": 900
      },
      "image/png": "[encoded data removed]",
      "text/plain": [
       "<VegaLite 3 object>\n",
       "\n",
       "If you see this message, it means the renderer has not been properly enabled\n",
       "for the frontend that you are using. For more information, see\n",
       "https://altair-viz.github.io/user_guide/troubleshooting.html\n"
      ]
     },
     "execution_count": 8,
     "metadata": {},
     "output_type": "execute_result"
    }
   ],
   "source": [
    "dd = df.loc(axis=0)[\n",
    "    2014:,\n",
    "    ['Austria', 'Cyprus', 'France', 'Germany', 'Italy', 'Malta', 'Switzerland'],\n",
    "    'First time applicant',\n",
    "]\n",
    "alt.Chart(dd.reset_index()).mark_bar().encode(\n",
    "    x=alt.X('time:O', title='Year'),\n",
    "    y=alt.Y('sum(asyl_count_per_capita_and_bip):Q', title='Count', stack='zero'),\n",
    "    color=alt.Color('geo:N', title='Country'),\n",
    "    tooltip=[\n",
    "        alt.Tooltip('geo', title='Country'),\n",
    "        alt.Tooltip('sum(asyl_count_per_capita_and_bip)', title='Count', format='.1f'),\n",
    "        alt.Tooltip('sum(asyl_count_per_capita_and_bip_fraction)', title='Fraction of Total', format='.1%')\n",
    "    ],\n",
    ").properties(\n",
    "    title=\"First Time Asylum Applicants per 1000 Population and 1 Mio EUR BIP\",\n",
    "    width=900,\n",
    "    height=540,\n",
    ")"
   ]
  }
 ],
 "metadata": {
  "kernelspec": {
   "display_name": "Python 3",
   "language": "python",
   "name": "python3"
  },
  "language_info": {
   "codemirror_mode": {
    "name": "ipython",
    "version": 3
   },
   "file_extension": ".py",
   "mimetype": "text/x-python",
   "name": "python",
   "nbconvert_exporter": "python",
   "pygments_lexer": "ipython3",
   "version": "3.7.3"
  }
 },
 "nbformat": 4,
 "nbformat_minor": 4
}
